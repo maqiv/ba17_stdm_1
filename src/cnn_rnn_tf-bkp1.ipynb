{
 "cells": [
  {
   "cell_type": "code",
   "execution_count": 1,
   "metadata": {},
   "outputs": [],
   "source": [
    "import os\n",
    "import time\n",
    "import numpy as np\n",
    "import tensorflow as tf\n",
    "\n",
    "import core.plot_saver as ps\n",
    "import core.data_gen as dg\n",
    "\n",
    "from tensorflow.contrib import learn\n",
    "from tensorflow.contrib.learn.python.learn.estimators import model_fn as model_fn_lib\n",
    "\n",
    "import cPickle as pickle\n",
    "\n",
    "training_data = 'train_data_100.pickle'\n",
    "rel_log_dir = '../data/tf_logs/'\n",
    "ckpt_dir_name = 'model.ckpt'\n",
    "\n",
    "frequencies = 128\n",
    "segment_size = 100\n",
    "total_speakers = 100\n",
    "gru_neurons = 256\n",
    "#train_loops = 30"
   ]
  },
  {
   "cell_type": "code",
   "execution_count": 2,
   "metadata": {
    "collapsed": true
   },
   "outputs": [],
   "source": [
    "def tf_log_dir(self, ckpt_dir=None):\n",
    "    current_workdir = os.getcwd()\n",
    "    tstamp = int(time.time())\n",
    "    sess_dir_name = 'sess_%s' % tstamp\n",
    "    dirty_path = os.path.join(current_workdir, rel_log_dir, sess_dir_name)\n",
    "    if ckpt_dir:\n",
    "        dirty_path = os.path.join(dirty_path, ckpt_dir)\n",
    "    return os.path.realpath(dirty_path)\n",
    "\n",
    "# Parse training data to matrices\n",
    "\n",
    "def create_train_data():\n",
    "    with open('../data/training/TIMIT_extracted/' + training_data, 'rb') as f:\n",
    "      (X, y, speaker_names) = pickle.load(f)\n",
    "\n",
    "    X_t, X_v, y_t, y_v = dg.splitter(X, y, 0.125, 8)\n",
    "    return X_t, y_t, X_v, y_v\n",
    "\n",
    "# Create data\n",
    "\n",
    "X_t, y_t, X_v, y_v = create_train_data()\n",
    "train_gen = dg.batch_generator(X_t, y_t, batch_size=128, segment_size=segment_size)\n",
    "val_gen = dg.batch_generator(X_v, y_v, batch_size=128, segment_size=segment_size)\n",
    "batches_t = ((X_t.shape[0]+128 -1 )// 128)*128\n",
    "batches_v = ((X_v.shape[0]+128 -1 )// 128)*128"
   ]
  },
  {
   "cell_type": "code",
   "execution_count": 3,
   "metadata": {},
   "outputs": [
    {
     "ename": "NameError",
     "evalue": "name 'speakers_count' is not defined",
     "output_type": "error",
     "traceback": [
      "\u001b[0;31m---------------------------------------------------------------------------\u001b[0m",
      "\u001b[0;31mNameError\u001b[0m                                 Traceback (most recent call last)",
      "\u001b[0;32m<ipython-input-3-b65b413b25a5>\u001b[0m in \u001b[0;36m<module>\u001b[0;34m()\u001b[0m\n\u001b[1;32m     46\u001b[0m \u001b[0;34m\u001b[0m\u001b[0m\n\u001b[1;32m     47\u001b[0m \u001b[0;32mwith\u001b[0m \u001b[0mtf\u001b[0m\u001b[0;34m.\u001b[0m\u001b[0mname_scope\u001b[0m\u001b[0;34m(\u001b[0m\u001b[0;34m'Dense_2'\u001b[0m\u001b[0;34m)\u001b[0m\u001b[0;34m:\u001b[0m\u001b[0;34m\u001b[0m\u001b[0m\n\u001b[0;32m---> 48\u001b[0;31m     \u001b[0mnetwork\u001b[0m \u001b[0;34m=\u001b[0m \u001b[0mtf\u001b[0m\u001b[0;34m.\u001b[0m\u001b[0mlayers\u001b[0m\u001b[0;34m.\u001b[0m\u001b[0mdense\u001b[0m\u001b[0;34m(\u001b[0m\u001b[0minputs\u001b[0m\u001b[0;34m=\u001b[0m\u001b[0mgru_out\u001b[0m\u001b[0;34m,\u001b[0m \u001b[0munits\u001b[0m\u001b[0;34m=\u001b[0m\u001b[0mspeakers_count\u001b[0m\u001b[0;34m,\u001b[0m \u001b[0mactivation\u001b[0m\u001b[0;34m=\u001b[0m\u001b[0mtf\u001b[0m\u001b[0;34m.\u001b[0m\u001b[0mnn\u001b[0m\u001b[0;34m.\u001b[0m\u001b[0msoftmax\u001b[0m\u001b[0;34m)\u001b[0m\u001b[0;34m\u001b[0m\u001b[0m\n\u001b[0m\u001b[1;32m     49\u001b[0m     \u001b[0;31m#print(\"Output dimensions of Dense_2 is \", output_layer.get_shape())\u001b[0m\u001b[0;34m\u001b[0m\u001b[0;34m\u001b[0m\u001b[0m\n\u001b[1;32m     50\u001b[0m \u001b[0;34m\u001b[0m\u001b[0m\n",
      "\u001b[0;31mNameError\u001b[0m: name 'speakers_count' is not defined"
     ]
    }
   ],
   "source": [
    "# Create basic net infrastructure\n",
    "\n",
    "#def create_net(frequencies, segment_size, c1_dims, max1_dims, c2_dims, max2_dims, gru_neur, speakers_count):\n",
    "\n",
    "# Placeholders\n",
    "with tf.name_scope('Placeholders'):\n",
    "    x_input = tf.placeholder(tf.float32, shape=(None, frequencies, segment_size, 1))\n",
    "    out_labels = tf.placeholder(tf.float32, shape=(None, segment_size))\n",
    "\n",
    "with tf.name_scope('Convolution_1'):\n",
    "    # Output Dimensions (-1, 128, 100, 16)\n",
    "    conv1 = tf.layers.conv2d(inputs=x_input, filters=32, kernel_size=[8, 1], padding=\"same\", activation=tf.nn.relu)\n",
    "\n",
    "with tf.name_scope('MaxPooling_1'):\n",
    "    # Output Dimensions (-1, 63, 49, 16)\n",
    "    pool1 = tf.layers.max_pooling2d(inputs=conv1, pool_size=[4, 4], strides=[2, 2])\n",
    "\n",
    "with tf.name_scope('Convolution_2'):\n",
    "    # Output Dimensions (-1, 63, 49, 32)\n",
    "    conv2 = tf.layers.conv2d(inputs=pool1, filters=64, kernel_size=[8, 1], padding=\"same\", activation=tf.nn.relu)\n",
    "\n",
    "with tf.name_scope('MaxPooling_2'):\n",
    "    # Output Dimensions (-1, 30, 23, 32)\n",
    "    pool2 = tf.layers.max_pooling2d(inputs=conv2, pool_size=[4, 4], strides=[2, 2])\n",
    "\n",
    "with tf.name_scope('Reshape'):\n",
    "    dim_flatted = int(np.prod(pool2.shape[1:]))\n",
    "    flat = tf.reshape(pool2, [-1, dim_flatted])\n",
    "    \n",
    "with tf.name_scope('for_lstm'):\n",
    "    dim1 = int(pool2.shape[3] * pool2.shape[1])\n",
    "    dim2 = int(pool2.shape[2])\n",
    "    lstm_input = tf.reshape(pool2, [-1, dim1, dim2])\n",
    "\n",
    "with tf.name_scope('GRU'):\n",
    "    x_gru = tf.unstack(lstm_input, lstm_input.get_shape()[1], 1)\n",
    "    gru_cell = tf.contrib.rnn.GRUCell(gru_neurons)\n",
    "    dense1, _ = tf.contrib.rnn.static_rnn(gru_cell, x_gru, dtype='float')\n",
    "    gru_out = dense1[-1]\n",
    "\n",
    "# Dense layer with units as total # of speakers * 10\n",
    "#with tf.name_scope('Dense_1'):\n",
    "    # Output Dimensions (-1, 30, 23, 100)\n",
    "    #dense1 = tf.layers.dense(inputs=flat, units=total_speakers, activation=tf.nn.relu)\n",
    "    #print(\"Output dimensions of Dense_1 is \", dense1.get_shape())\n",
    "\n",
    "with tf.name_scope('Dense_2'):\n",
    "    network = tf.layers.dense(inputs=gru_out, units=speakers_count, activation=tf.nn.softmax)\n",
    "    #print(\"Output dimensions of Dense_2 is \", output_layer.get_shape())\n",
    "    \n",
    "    #return network"
   ]
  },
  {
   "cell_type": "code",
   "execution_count": null,
   "metadata": {
    "collapsed": true,
    "scrolled": true
   },
   "outputs": [],
   "source": [
    "# Run the network\n",
    "\n",
    "with tf.name_scope('Optimizer'):\n",
    "    # Cross entropy and optimizer\n",
    "    \n",
    "    cross_entropy = tf.reduce_mean(tf.nn.softmax_cross_entropy_with_logits(logits=network, labels=out_labels))\n",
    "    tf.summary.scalar('loss', cross_entropy)\n",
    "    optimizer = tf.train.AdamOptimizer().minimize(cross_entropy)"
   ]
  },
  {
   "cell_type": "code",
   "execution_count": null,
   "metadata": {
    "scrolled": false
   },
   "outputs": [],
   "source": [
    "# Training\n",
    "\n",
    "train_loops = 5\n",
    "\n",
    "sess = tf.Session()\n",
    "sess.run(tf.global_variables_initializer())\n",
    "\n",
    "# Tensorboard\n",
    "tb_merged = tf.summary.merge_all()\n",
    "tb_saver = tf.train.Saver()\n",
    "tb_train_writer = tf.summary.FileWriter(tf_log_dir(), sess.graph)\n",
    "\n",
    "run_options = tf.RunOptions(trace_level=tf.RunOptions.FULL_TRACE)\n",
    "run_metadata = tf.RunMetadata()\n",
    "\n",
    "for step in range(train_loops):\n",
    "    start_time = time.time()\n",
    "    \n",
    "    # Get next batch\n",
    "    x_b_t, y_b = train_gen.next()\n",
    "    # Reshape the x_b batch with channel as last dimension\n",
    "    x_b = np.reshape(x_b_t, [128, 128, 100, 1])\n",
    "    \n",
    "    # Execute training\n",
    "    feed_dict = { x_input: x_b, out_labels: y_b }\n",
    "    _, loss_value = sess.run([optimizer, cross_entropy], feed_dict=feed_dict, options=run_options, run_metadata=run_metadata)\n",
    "    \n",
    "    #print(\"Loss value: %f\" % loss_value)\n",
    "    #round_time = time.time() - start_time\n",
    "    #print(\"Round %d time: %s\" % (train, round_time))\n",
    "    \n",
    "    ## define accuracy\n",
    "    correct_pred = tf.equal(tf.argmax(network, 1), tf.argmax(out_labels, 1))\n",
    "    accuracy = tf.reduce_mean(tf.cast(correct_pred, tf.float32))\n",
    "    \n",
    "    sess_acc = sess.run(accuracy, feed_dict={ x_input: x_b, out_labels: y_b }, options=run_options, run_metadata=run_metadata)\n",
    "    print(\"Round %d accuracy: %s\" % (step, sess_acc))\n",
    "    \n",
    "    if step % 10 == 0:\n",
    "        tb_summary_str = sess.run(tb_merged, feed_dict={ x_input: x_b, out_labels: y_b })\n",
    "        tb_train_writer.add_run_metadata(run_metadata, 'step_{:04d}'.format(step))\n",
    "        tb_train_writer.add_summary(tb_summary_str, step)\n",
    "        tb_train_writer.flush()\n",
    "    \n",
    "    if step % 100 == 0:\n",
    "        tb_saver.save(sess, tf_log_dir(ckpt_dir=ckpt_dir_name), global_step=step)"
   ]
  },
  {
   "cell_type": "code",
   "execution_count": null,
   "metadata": {
    "collapsed": true
   },
   "outputs": [],
   "source": []
  }
 ],
 "metadata": {
  "kernelspec": {
   "display_name": "Python 2",
   "language": "python",
   "name": "python2"
  },
  "language_info": {
   "codemirror_mode": {
    "name": "ipython",
    "version": 2
   },
   "file_extension": ".py",
   "mimetype": "text/x-python",
   "name": "python",
   "nbconvert_exporter": "python",
   "pygments_lexer": "ipython2",
   "version": "2.7.12"
  }
 },
 "nbformat": 4,
 "nbformat_minor": 2
}
