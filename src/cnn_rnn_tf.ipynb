{
 "cells": [
  {
   "cell_type": "code",
   "execution_count": 1,
   "metadata": {},
   "outputs": [],
   "source": [
    "import os\n",
    "import time\n",
    "import numpy as np\n",
    "import tensorflow as tf\n",
    "\n",
    "import core.plot_saver as ps\n",
    "import core.data_gen as dg\n",
    "\n",
    "from tensorflow.contrib import learn\n",
    "from tensorflow.contrib.learn.python.learn.estimators import model_fn as model_fn_lib\n",
    "\n",
    "import cPickle as pickle\n",
    "\n",
    "training_data = 'train_data_100.pickle'\n",
    "rel_log_dir = '../data/tf_logs/'\n",
    "ckpt_dir_name = 'model.ckpt'\n",
    "\n",
    "frequencies = 128\n",
    "segment_size = 100\n",
    "total_speakers = 100\n",
    "batch_size = 128\n",
    "gru_neurons = 256\n",
    "#train_loops = 30"
   ]
  },
  {
   "cell_type": "code",
   "execution_count": 2,
   "metadata": {},
   "outputs": [],
   "source": [
    "def tf_log_dir():\n",
    "    current_workdir = os.getcwd()\n",
    "    tstamp = int(time.time())\n",
    "    sess_dir_name = 'sess_%s' % tstamp\n",
    "    dirty_path = os.path.join(current_workdir, rel_log_dir, sess_dir_name)\n",
    "    return os.path.realpath(dirty_path)\n",
    "\n",
    "# Parse training data to matrices\n",
    "\n",
    "def create_train_data():\n",
    "    with open('../data/training/TIMIT_extracted/' + training_data, 'rb') as f:\n",
    "      (X, y, speaker_names) = pickle.load(f)\n",
    "\n",
    "    X_t, X_v, y_t, y_v = dg.splitter(X, y, 0.125, 8)\n",
    "    return X_t, y_t, X_v, y_v\n",
    "\n",
    "# Create data\n",
    "\n",
    "X_t, y_t, X_v, y_v = create_train_data()\n",
    "train_gen = dg.batch_generator(X_t, y_t, batch_size=batch_size, segment_size=segment_size)\n",
    "val_gen = dg.batch_generator(X_v, y_v, batch_size=batch_size, segment_size=segment_size)\n",
    "batches_t = ((X_t.shape[0]+128 -1 )// 128)*128\n",
    "batches_v = ((X_v.shape[0]+128 -1 )// 128)*128"
   ]
  },
  {
   "cell_type": "code",
   "execution_count": 3,
   "metadata": {},
   "outputs": [],
   "source": [
    "# Create basic net infrastructure\n",
    "\n",
    "#def create_net(frequencies, segment_size, c1_dims, max1_dims, c2_dims, max2_dims, gru_neur, speakers_count):\n",
    "\n",
    "# Placeholders\n",
    "with tf.name_scope('Placeholders'):\n",
    "    x_input = tf.placeholder(tf.float32, shape=(None, frequencies, segment_size, 1))\n",
    "    out_labels = tf.placeholder(tf.float32, shape=(None, segment_size))\n",
    "\n",
    "with tf.name_scope('Convolution_1'):\n",
    "    conv1 = tf.layers.conv2d(inputs=x_input, filters=32, kernel_size=[8, 1], padding=\"same\", activation=tf.nn.relu)\n",
    "\n",
    "with tf.name_scope('MaxPooling_1'):\n",
    "    pool1 = tf.layers.max_pooling2d(inputs=conv1, pool_size=[4, 4], strides=[2, 2])\n",
    "\n",
    "with tf.name_scope('Convolution_2'):\n",
    "    conv2 = tf.layers.conv2d(inputs=pool1, filters=64, kernel_size=[8, 1], padding=\"same\", activation=tf.nn.relu)\n",
    "\n",
    "with tf.name_scope('MaxPooling_2'):\n",
    "    pool2 = tf.layers.max_pooling2d(inputs=conv2, pool_size=[4, 4], strides=[2, 2])\n",
    "    \n",
    "with tf.name_scope('Reshape'):\n",
    "    dim1 = int(pool2.shape[3] * pool2.shape[1])\n",
    "    dim2 = int(pool2.shape[2])\n",
    "    lstm_input = tf.reshape(pool2, [-1, dim1, dim2])\n",
    "\n",
    "with tf.name_scope('GRU'):\n",
    "    x_gru = tf.unstack(lstm_input, lstm_input.get_shape()[1], 1)\n",
    "    gru_cell = tf.contrib.rnn.GRUCell(gru_neurons)\n",
    "    dense, _ = tf.contrib.rnn.static_rnn(gru_cell, x_gru, dtype='float')\n",
    "    gru_out = dense[-1]\n",
    "\n",
    "with tf.name_scope('Dense'):\n",
    "    network = tf.layers.dense(inputs=gru_out, units=total_speakers, activation=tf.nn.softmax)\n",
    "    #network = tf.layers.dense(inputs=gru_out, units=speakers_count, activation=tf.nn.softmax)\n",
    "    \n",
    "    #return network"
   ]
  },
  {
   "cell_type": "code",
   "execution_count": 4,
   "metadata": {
    "collapsed": true,
    "scrolled": true
   },
   "outputs": [],
   "source": [
    "# Optimizer\n",
    "\n",
    "with tf.name_scope('Optimizer'):\n",
    "    # Cross entropy and optimizer\n",
    "    \n",
    "    cross_entropy = tf.reduce_mean(tf.nn.softmax_cross_entropy_with_logits(logits=network, labels=out_labels))\n",
    "    tf.summary.scalar('loss', cross_entropy)\n",
    "    optimizer = tf.train.AdamOptimizer().minimize(cross_entropy)"
   ]
  },
  {
   "cell_type": "code",
   "execution_count": 6,
   "metadata": {
    "scrolled": false
   },
   "outputs": [
    {
     "data": {
      "text/plain": [
       "'/home/sebastian/Dokumente/uni/BT/PA_Code/data/tf_logs/sess_1491859407/final_model.save'"
      ]
     },
     "execution_count": 6,
     "metadata": {},
     "output_type": "execute_result"
    }
   ],
   "source": [
    "# Training\n",
    "\n",
    "train_loops = 5\n",
    "\n",
    "sess = tf.Session()\n",
    "sess.run(tf.global_variables_initializer())\n",
    "\n",
    "# Tensorboard\n",
    "tb_merged = tf.summary.merge_all()\n",
    "tb_saver = tf.train.Saver()\n",
    "tb_log_dir = tf_log_dir()\n",
    "tb_train_writer = tf.summary.FileWriter(tb_log_dir, sess.graph)\n",
    "\n",
    "run_options = tf.RunOptions(trace_level=tf.RunOptions.FULL_TRACE)\n",
    "run_metadata = tf.RunMetadata()\n",
    "\n",
    "for step in range(train_loops):\n",
    "    start_time = time.time()\n",
    "    \n",
    "    # Get next batch\n",
    "    x_b_t, y_b = train_gen.next()\n",
    "    # Reshape the x_b batch with channel as last dimension\n",
    "    x_b = np.reshape(x_b_t, [batch_size, frequencies, segment_size, 1])\n",
    "    \n",
    "    # Execute training\n",
    "    feed_dict = { x_input: x_b, out_labels: y_b }\n",
    "    _, loss_value = sess.run([optimizer, cross_entropy], feed_dict=feed_dict, options=run_options, run_metadata=run_metadata)\n",
    "    \n",
    "    # define accuracy\n",
    "    correct_pred = tf.equal(tf.argmax(network, 1), tf.argmax(out_labels, 1))\n",
    "    accuracy = tf.reduce_mean(tf.cast(correct_pred, tf.float32))\n",
    "    \n",
    "    sess_acc = sess.run(accuracy, feed_dict={ x_input: x_b, out_labels: y_b }, options=run_options, run_metadata=run_metadata)\n",
    "    #print(\"Round %d accuracy: %s\" % (step, sess_acc))\n",
    "    \n",
    "    if step % 10 == 0:\n",
    "        tb_summary_str = sess.run(tb_merged, feed_dict={ x_input: x_b, out_labels: y_b })\n",
    "        tb_train_writer.add_run_metadata(run_metadata, 'step_{:04d}'.format(step))\n",
    "        tb_train_writer.add_summary(tb_summary_str, step)\n",
    "        tb_train_writer.flush()\n",
    "    \n",
    "    if step % 100 == 0:\n",
    "        ckpt_file = os.path.join(tb_log_dir, 'model.ckpt')\n",
    "        tb_saver.save(sess, ckpt_file, global_step=step)\n",
    "\n",
    "model_file = os.path.join(tb_log_dir, 'final_model.save')\n",
    "tb_saver.save(sess, model_file)"
   ]
  },
  {
   "cell_type": "code",
   "execution_count": 85,
   "metadata": {},
   "outputs": [
    {
     "name": "stdout",
     "output_type": "stream",
     "text": [
      "(100, 1, 128, 800) (100,)\n",
      "(260, 1, 128, 100) (100,)\n"
     ]
    }
   ],
   "source": [
    "\n",
    "test_x_data, test_y_data = dg.generate_test_data(X_v, y_v, 100)\n",
    "print X_v.shape, y_v.shape\n",
    "print test_x_data.shape, y_v.shape\n",
    "#print test_x_data.shape, test_y_data.shape\n",
    "\n",
    "#net_output = network.eval(feed_dict={x_input: np.reshape(test_x_data, [260, 128, 100, 1]), out_labels: np.reshape(test_y_data[:100,], [-1, 100])}, session=sess)\n",
    "#gru_output = gru_out.eval(feed_dict={x_input: np.reshape(test_x_data, [260, 128, 100, 1]), out_labels: np.reshape(test_y_data[:100,], [-1, 100])}, session=sess)\n"
   ]
  },
  {
   "cell_type": "code",
   "execution_count": 82,
   "metadata": {},
   "outputs": [
    {
     "name": "stdout",
     "output_type": "stream",
     "text": [
      "[[-0.01962449 -0.00752905  0.00128846 -0.0131578 ]\n",
      " [-0.02017676 -0.01848101  0.00381372 -0.0185026 ]\n",
      " [-0.03182903 -0.03185349  0.00299494 -0.01037239]\n",
      " [-0.02004599 -0.01478151  0.00450617 -0.01441335]]\n",
      "(260, 256)\n",
      "(?, 30, 23, 64)\n"
     ]
    }
   ],
   "source": [
    "print gru_output[1:5, 1:5]\n",
    "print gru_output.shape\n",
    "print pool2.shape"
   ]
  },
  {
   "cell_type": "code",
   "execution_count": null,
   "metadata": {
    "collapsed": true
   },
   "outputs": [],
   "source": []
  }
 ],
 "metadata": {
  "kernelspec": {
   "display_name": "Python 2",
   "language": "python",
   "name": "python2"
  },
  "language_info": {
   "codemirror_mode": {
    "name": "ipython",
    "version": 2
   },
   "file_extension": ".py",
   "mimetype": "text/x-python",
   "name": "python",
   "nbconvert_exporter": "python",
   "pygments_lexer": "ipython2",
   "version": "2.7.12"
  }
 },
 "nbformat": 4,
 "nbformat_minor": 2
}
