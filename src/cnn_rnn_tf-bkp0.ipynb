{
 "cells": [
  {
   "cell_type": "code",
   "execution_count": 1,
   "metadata": {
    "collapsed": false,
    "deletable": true,
    "editable": true,
    "scrolled": true
   },
   "outputs": [],
   "source": [
    "import os\n",
    "import time\n",
    "import numpy as np\n",
    "import tensorflow as tf\n",
    "\n",
    "import core.plot_saver as ps\n",
    "import core.data_gen as dg\n",
    "\n",
    "from tensorflow.contrib import learn\n",
    "from tensorflow.contrib.learn.python.learn.estimators import model_fn as model_fn_lib\n",
    "\n",
    "import cPickle as pickle\n",
    "\n",
    "training_data = \"train_data_100.pickle\"\n",
    "\n",
    "frequencies = 128\n",
    "segment_size = 100\n",
    "total_speakers = 100\n",
    "#train_loops = 30"
   ]
  },
  {
   "cell_type": "code",
   "execution_count": 2,
   "metadata": {
    "collapsed": true,
    "deletable": true,
    "editable": true
   },
   "outputs": [],
   "source": [
    "def tf_log_dir():\n",
    "    current_workdir = os.getcwd()\n",
    "    tstamp = int(time.time())\n",
    "    relative_path = \"../data/tf_logs/sess_%s\" % tstamp\n",
    "    dirty_path = os.path.join(current_workdir, relative_path)\n",
    "    return os.path.realpath(dirty_path)\n",
    "\n",
    "# Parse training data to matrices\n",
    "\n",
    "def create_train_data():\n",
    "    with open('../data/training/TIMIT_extracted/' + training_data, 'rb') as f:\n",
    "      (X, y, speaker_names) = pickle.load(f)\n",
    "\n",
    "    X_t, X_v, y_t, y_v = dg.splitter(X, y, 0.125, 8)\n",
    "    return X_t, y_t, X_v, y_v\n",
    "\n",
    "# Create data\n",
    "\n",
    "X_t, y_t, X_v, y_v = create_train_data()\n",
    "train_gen = dg.batch_generator(X_t, y_t, batch_size=128, segment_size=segment_size)\n",
    "val_gen = dg.batch_generator(X_v, y_v, batch_size=128, segment_size=segment_size)\n",
    "batches_t = ((X_t.shape[0]+128 -1 )// 128)*128\n",
    "batches_v = ((X_v.shape[0]+128 -1 )// 128)*128"
   ]
  },
  {
   "cell_type": "code",
   "execution_count": 3,
   "metadata": {
    "collapsed": false,
    "deletable": true,
    "editable": true
   },
   "outputs": [],
   "source": [
    "# Create basic net infrastructure\n",
    "\n",
    "out_labels = tf.placeholder(tf.float32, shape=(None, segment_size))\n",
    "\n",
    "#def create_net(x_input):\n",
    "\n",
    "# Dimensions (-1, 128, 100, 1)\n",
    "x_input = tf.placeholder(tf.float32, shape=(None, frequencies, segment_size, 1))\n",
    "\n",
    "with tf.name_scope('Convolution_1'):\n",
    "    # Output Dimensions (-1, 128, 100, 16)\n",
    "    conv1 = tf.layers.conv2d(inputs=x_input, filters=16, kernel_size=[8, 8], padding=\"same\", activation=tf.nn.relu)\n",
    "\n",
    "with tf.name_scope('MaxPooling_1'):\n",
    "    # Output Dimensions (-1, 63, 49, 16)\n",
    "    pool1 = tf.layers.max_pooling2d(inputs=conv1, pool_size=[4, 4], strides=2)\n",
    "\n",
    "with tf.name_scope('Convolution_2'):\n",
    "    # Output Dimensions (-1, 63, 49, 32)\n",
    "    conv2 = tf.layers.conv2d(inputs=pool1, filters=32, kernel_size=[6, 6], padding=\"same\", activation=tf.nn.relu)\n",
    "\n",
    "with tf.name_scope('MaxPooling_2'):\n",
    "    # Output Dimensions (-1, 30, 23, 32)\n",
    "    pool2 = tf.layers.max_pooling2d(inputs=conv2, pool_size=[4, 4], strides=2)\n",
    "\n",
    "with tf.name_scope('Reshape'):\n",
    "    dim_flatted = int(np.prod(pool2.shape[1:]))\n",
    "    flat = tf.reshape(pool2, [-1, dim_flatted])\n",
    "\n",
    "# Dense layer with units as total # of speakers * 10\n",
    "with tf.name_scope('Dense_1'):\n",
    "    # Output Dimensions (-1, 30, 23, 100)\n",
    "    dense1 = tf.layers.dense(inputs=flat, units=total_speakers, activation=tf.nn.relu)\n",
    "    #print(\"Output dimensions of Dense_1 is \", dense1.get_shape())\n",
    "\n",
    "with tf.name_scope('Dense_2'):\n",
    "    network = tf.layers.dense(inputs=dense1, units=total_speakers, activation=tf.nn.softmax)\n",
    "    #print(\"Output dimensions of Dense_2 is \", output_layer.get_shape())\n",
    "    \n",
    "    #return output_layer"
   ]
  },
  {
   "cell_type": "code",
   "execution_count": 4,
   "metadata": {
    "collapsed": false,
    "deletable": true,
    "editable": true,
    "scrolled": true
   },
   "outputs": [],
   "source": [
    "# Run the network\n",
    "\n",
    "with tf.name_scope('Optimizer'):\n",
    "    # Cross entropy and optimizer\n",
    "    \n",
    "    cross_entropy = tf.reduce_mean(tf.nn.softmax_cross_entropy_with_logits(logits=network, labels=out_labels))\n",
    "    tf.summary.scalar('loss', cross_entropy)\n",
    "    optimizer = tf.train.AdamOptimizer().minimize(cross_entropy)"
   ]
  },
  {
   "cell_type": "code",
   "execution_count": null,
   "metadata": {
    "collapsed": false,
    "deletable": true,
    "editable": true,
    "scrolled": false
   },
   "outputs": [
    {
     "name": "stdout",
     "output_type": "stream",
     "text": [
      "Round 0 time: 2.32994294167\n",
      "Round 1 time: 2.33097505569\n",
      "Round 2 time: 2.33398795128\n",
      "Round 3 time: 2.29593110085\n",
      "Round 4 time: 2.3004720211\n",
      "Round 5 time: 2.30020785332\n",
      "Round 6 time: 2.25950789452\n",
      "Round 7 time: 2.29637098312\n",
      "Round 8 time: 2.36751413345\n",
      "Round 9 time: 2.30102992058\n",
      "Round 10 time: 2.27247095108\n",
      "Round 11 time: 2.2541539669\n",
      "Round 12 time: 2.3006310463\n",
      "Round 13 time: 2.26172494888\n",
      "Round 14 time: 2.32049393654\n",
      "Round 15 time: 2.28292417526\n",
      "Round 16 time: 2.26547694206\n",
      "Round 17 time: 2.27108502388\n",
      "Round 18 time: 2.31908106804\n",
      "Round 19 time: 2.31048202515\n",
      "Round 20 time: 2.3701581955\n"
     ]
    }
   ],
   "source": [
    "# Training\n",
    "\n",
    "train_loops = 50\n",
    "\n",
    "sess = tf.Session()\n",
    "sess.run(tf.global_variables_initializer())\n",
    "\n",
    "# Tensorboard\n",
    "tb_merged = tf.summary.merge_all()\n",
    "tb_saver = tf.train.Saver()\n",
    "tb_train_writer = tf.summary.FileWriter(tf_log_dir(), sess.graph)\n",
    "run_options = tf.RunOptions(trace_level=tf.RunOptions.FULL_TRACE)\n",
    "run_metadata = tf.RunMetadata()\n",
    "\n",
    "for train in range(train_loops):\n",
    "    start_time = time.time()\n",
    "    \n",
    "    # Get next batch\n",
    "    x_b_t, y_b = train_gen.next()\n",
    "    # Reshape the x_b batch with channel as last dimension\n",
    "    x_b = np.reshape(x_b_t, [128, 128, 100, 1])\n",
    "    \n",
    "    # Execute training\n",
    "    _, loss_value = sess.run([optimizer, cross_entropy], feed_dict={ x_input: x_b, out_labels: y_b }, options=run_options, run_metadata=run_metadata)\n",
    "    \n",
    "    round_time = time.time() - start_time\n",
    "    print(\"Round %d time: %s\" % (train, round_time))\n",
    "    \n",
    "    tb_summary_str = sess.run(tb_merged, feed_dict={ x_input: x_b, out_labels: y_b })\n",
    "    tb_train_writer.add_run_metadata(run_metadata, 'step_{:04d}'.format(train))\n",
    "    tb_train_writer.add_summary(tb_summary_str, train)\n",
    "    tb_train_writer.flush()"
   ]
  },
  {
   "cell_type": "code",
   "execution_count": null,
   "metadata": {
    "collapsed": true,
    "deletable": true,
    "editable": true
   },
   "outputs": [],
   "source": []
  }
 ],
 "metadata": {
  "kernelspec": {
   "display_name": "Python 2",
   "language": "python",
   "name": "python2"
  },
  "language_info": {
   "codemirror_mode": {
    "name": "ipython",
    "version": 2
   },
   "file_extension": ".py",
   "mimetype": "text/x-python",
   "name": "python",
   "nbconvert_exporter": "python",
   "pygments_lexer": "ipython2",
   "version": "2.7.12"
  }
 },
 "nbformat": 4,
 "nbformat_minor": 2
}
